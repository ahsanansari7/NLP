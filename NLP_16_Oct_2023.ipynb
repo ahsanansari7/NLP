{
 "cells": [
  {
   "cell_type": "markdown",
   "id": "5cc5482c",
   "metadata": {},
   "source": [
    "# Date Formatting"
   ]
  },
  {
   "cell_type": "code",
   "execution_count": 28,
   "id": "18bc0c24",
   "metadata": {},
   "outputs": [
    {
     "name": "stdout",
     "output_type": "stream",
     "text": [
      "2023-10-16 00:00:00\n",
      "October 16 2023\n",
      "Oct 16 23\n"
     ]
    }
   ],
   "source": [
    "from datetime import datetime\n",
    "today=datetime(2023,10,16)\n",
    "print(today)\n",
    "print(f'{today:%B %d %Y}')\n",
    "print(f'{today:%b %d %y}')"
   ]
  },
  {
   "cell_type": "code",
   "execution_count": 29,
   "id": "4cd28f59",
   "metadata": {},
   "outputs": [
    {
     "name": "stdout",
     "output_type": "stream",
     "text": [
      "2023-10-16\n",
      "2023\n",
      "10\n",
      "16\n"
     ]
    }
   ],
   "source": [
    "import datetime\n",
    "currentDate=datetime.date.today()\n",
    "print(currentDate)\n",
    "print(currentDate.year)\n",
    "print(currentDate.month)\n",
    "print(currentDate.day)"
   ]
  },
  {
   "cell_type": "code",
   "execution_count": 30,
   "id": "48eeab51",
   "metadata": {},
   "outputs": [
    {
     "name": "stdout",
     "output_type": "stream",
     "text": [
      "16 Oct,23 Mon\n"
     ]
    }
   ],
   "source": [
    "print(currentDate.strftime('%d %b,%y %a'))"
   ]
  },
  {
   "cell_type": "code",
   "execution_count": 31,
   "id": "b161af7c",
   "metadata": {},
   "outputs": [
    {
     "name": "stdout",
     "output_type": "stream",
     "text": [
      "10/16/23 October,2023 Monday\n"
     ]
    }
   ],
   "source": [
    "print(currentDate.strftime('%D %B,%Y %A'))"
   ]
  },
  {
   "cell_type": "markdown",
   "id": "806b95a5",
   "metadata": {},
   "source": [
    "## Python strftime Cheetsheat"
   ]
  },
  {
   "cell_type": "markdown",
   "id": "2bd203c4",
   "metadata": {},
   "source": [
    "### https://strftime.org/"
   ]
  },
  {
   "cell_type": "markdown",
   "id": "30862678",
   "metadata": {},
   "source": [
    "### BirthMonth "
   ]
  },
  {
   "cell_type": "code",
   "execution_count": 32,
   "id": "67cac9fd",
   "metadata": {},
   "outputs": [
    {
     "name": "stdout",
     "output_type": "stream",
     "text": [
      "what is your birthday?02-03-2005\n",
      "Your birth month is February\n",
      "Your birth date is Thursday\n"
     ]
    }
   ],
   "source": [
    "birthday = input(\"what is your birthday?\" )\n",
    "birthdate = datetime.datetime.strptime(birthday,\"%m-%d-%Y\").date()\n",
    "print(\"Your birth month is \" + birthdate.strftime('%B'))\n",
    "print(\"Your birth date is \" + birthdate.strftime('%A'))"
   ]
  },
  {
   "cell_type": "code",
   "execution_count": 33,
   "id": "a5f53d2b",
   "metadata": {},
   "outputs": [
    {
     "name": "stdout",
     "output_type": "stream",
     "text": [
      "41\n"
     ]
    }
   ],
   "source": [
    "NextBirthday = datetime.datetime.strptime('09/05/2023','%m/%d/%Y').date()\n",
    "CurrentDate = datetime.date.today()\n",
    "Difference = CurrentDate-NextBirthday\n",
    "print(Difference.days)"
   ]
  },
  {
   "cell_type": "code",
   "execution_count": 34,
   "id": "d4a26806",
   "metadata": {},
   "outputs": [
    {
     "name": "stdout",
     "output_type": "stream",
     "text": [
      "2023-10-31\n",
      "2023-10-16\n"
     ]
    }
   ],
   "source": [
    "CurrentDate = datetime.date.today()\n",
    "#timedelta allows you to specify the time\n",
    "#to add or subtract from a date\n",
    "print(CurrentDate + datetime.timedelta(days=15))\n",
    "print(CurrentDate + datetime.timedelta(hours=15))"
   ]
  },
  {
   "cell_type": "markdown",
   "id": "37d50976",
   "metadata": {},
   "source": [
    "# File Handling "
   ]
  },
  {
   "cell_type": "markdown",
   "id": "c4c131ad",
   "metadata": {},
   "source": [
    "## Creating a File with Python"
   ]
  },
  {
   "cell_type": "code",
   "execution_count": 35,
   "id": "43b9a19a",
   "metadata": {},
   "outputs": [
    {
     "name": "stdout",
     "output_type": "stream",
     "text": [
      "Overwriting test.txt\n"
     ]
    }
   ],
   "source": [
    "%%writefile test.txt\n",
    "Hello, This is a quick test file.\n",
    "This is the second line of the file.\n",
    "Just for testing"
   ]
  },
  {
   "cell_type": "markdown",
   "id": "9e39e3da",
   "metadata": {},
   "source": [
    "## Opening a File with Python "
   ]
  },
  {
   "cell_type": "markdown",
   "id": "3a87462d",
   "metadata": {},
   "source": [
    "## Know your File's Location"
   ]
  },
  {
   "cell_type": "markdown",
   "id": "fe7cc68b",
   "metadata": {},
   "source": [
    "### It's easy to get an error on this step: "
   ]
  },
  {
   "cell_type": "code",
   "execution_count": 36,
   "id": "8138b001",
   "metadata": {},
   "outputs": [],
   "source": [
    "try:\n",
    "    myfile = open(\"test.txt\", \"r\")\n",
    "except:\n",
    "    print(\"File is opening\")"
   ]
  },
  {
   "cell_type": "code",
   "execution_count": 37,
   "id": "eb0e30a5",
   "metadata": {},
   "outputs": [
    {
     "name": "stdout",
     "output_type": "stream",
     "text": [
      "Hello, This is a quick test file.\n",
      "This is the second line of the file.\n",
      "Just for testing\n",
      "\n"
     ]
    }
   ],
   "source": [
    "# we can now read the file\n",
    "print(myfile.read())"
   ]
  },
  {
   "cell_type": "code",
   "execution_count": 38,
   "id": "ffb77ad0",
   "metadata": {},
   "outputs": [
    {
     "name": "stdout",
     "output_type": "stream",
     "text": [
      "Hello, This is a quick test file.\n",
      "This is the second line of the file.\n",
      "Just for testing\n",
      "\n"
     ]
    }
   ],
   "source": [
    "# readlines\n",
    "# Readlines returns a list of the lines in the file\n",
    "myfile.seek(0)\n",
    "print(myfile.read())"
   ]
  },
  {
   "cell_type": "code",
   "execution_count": 39,
   "id": "14ff1692",
   "metadata": {},
   "outputs": [],
   "source": [
    "myfile.close()"
   ]
  },
  {
   "cell_type": "code",
   "execution_count": 40,
   "id": "cc86e975",
   "metadata": {},
   "outputs": [
    {
     "name": "stdout",
     "output_type": "stream",
     "text": [
      "This file is closed\n"
     ]
    }
   ],
   "source": [
    "try:\n",
    "    myfile.read()\n",
    "except:\n",
    "    print(\"This file is closed\")"
   ]
  },
  {
   "cell_type": "markdown",
   "id": "160f6178",
   "metadata": {},
   "source": [
    "## Writing to a File "
   ]
  },
  {
   "cell_type": "code",
   "execution_count": 41,
   "id": "659491a8",
   "metadata": {},
   "outputs": [],
   "source": [
    "myfile = open('test.txt', 'w+')"
   ]
  },
  {
   "cell_type": "code",
   "execution_count": 42,
   "id": "e45ce2d2",
   "metadata": {},
   "outputs": [
    {
     "data": {
      "text/plain": [
       "34"
      ]
     },
     "execution_count": 42,
     "metadata": {},
     "output_type": "execute_result"
    }
   ],
   "source": [
    "# write to a file \n",
    "myfile.write('This is a new line with changing \\n')"
   ]
  },
  {
   "cell_type": "code",
   "execution_count": 43,
   "id": "e7d3251c",
   "metadata": {},
   "outputs": [
    {
     "name": "stdout",
     "output_type": "stream",
     "text": [
      "This is a new line with changing \n",
      "\n"
     ]
    }
   ],
   "source": [
    "# Read a file\n",
    "myfile.seek(0)\n",
    "print(myfile.read())"
   ]
  },
  {
   "cell_type": "markdown",
   "id": "0a08e1ad",
   "metadata": {},
   "source": [
    "## Appending to a File "
   ]
  },
  {
   "cell_type": "code",
   "execution_count": 44,
   "id": "46f2ea98",
   "metadata": {},
   "outputs": [
    {
     "data": {
      "text/plain": [
       "40"
      ]
     },
     "execution_count": 44,
     "metadata": {},
     "output_type": "execute_result"
    }
   ],
   "source": [
    "myfile = open('test.txt', 'a+')\n",
    "myfile.write('\\n This line is being appended to a text.txt file')\n",
    "myfile.write('\\n Now, Another line is appended or added')"
   ]
  },
  {
   "cell_type": "code",
   "execution_count": 45,
   "id": "d2fdd0df",
   "metadata": {},
   "outputs": [
    {
     "name": "stdout",
     "output_type": "stream",
     "text": [
      "This is a new line with changing \n",
      "\n",
      " This line is being appended to a text.txt file\n",
      " Now, Another line is appended or added\n"
     ]
    }
   ],
   "source": [
    "myfile.seek(0)\n",
    "print(myfile.read())"
   ]
  },
  {
   "cell_type": "markdown",
   "id": "3d4723dc",
   "metadata": {},
   "source": [
    "## Appending with %%writefile "
   ]
  },
  {
   "cell_type": "code",
   "execution_count": 46,
   "id": "f8eaf947",
   "metadata": {},
   "outputs": [
    {
     "name": "stdout",
     "output_type": "stream",
     "text": [
      "Appending to test.txt\n"
     ]
    }
   ],
   "source": [
    "%%writefile -a test.txt\n",
    "This is more test being appended in the file.\n",
    "And another line is here"
   ]
  },
  {
   "cell_type": "code",
   "execution_count": 47,
   "id": "d6f15877",
   "metadata": {},
   "outputs": [
    {
     "name": "stdout",
     "output_type": "stream",
     "text": [
      "This is a new line with changing \n",
      "\n",
      " This line is being appended to a text.txt file\n",
      " Now, Another line is appended or addedThis is more test being appended in the file.\n",
      "And another line is here\n",
      "\n"
     ]
    }
   ],
   "source": [
    "myfile.seek(0)\n",
    "print(myfile.read())"
   ]
  },
  {
   "cell_type": "code",
   "execution_count": 48,
   "id": "fffcbd63",
   "metadata": {},
   "outputs": [],
   "source": [
    "myfile.close()"
   ]
  },
  {
   "cell_type": "markdown",
   "id": "7c159e10",
   "metadata": {},
   "source": [
    "## Alias and Context Managers"
   ]
  },
  {
   "cell_type": "code",
   "execution_count": 49,
   "id": "9257dcf6",
   "metadata": {},
   "outputs": [
    {
     "name": "stdout",
     "output_type": "stream",
     "text": [
      "This is a new line with changing \n",
      "\n",
      " This line is being appended to a text.txt file\n",
      " Now, Another line is appended or addedThis is more test being appended in the file.\n",
      "And another line is here\n",
      "\n"
     ]
    }
   ],
   "source": [
    "with open('test.txt', 'r') as txt:\n",
    "    content = txt.read()\n",
    "print(content)"
   ]
  },
  {
   "cell_type": "markdown",
   "id": "5dab9b25",
   "metadata": {},
   "source": [
    "## Iterating through a file"
   ]
  },
  {
   "cell_type": "code",
   "execution_count": 50,
   "id": "99d0657d",
   "metadata": {},
   "outputs": [
    {
     "name": "stdout",
     "output_type": "stream",
     "text": [
      "This is a new line with changing \n",
      "\n",
      " This line is being appended to a text.txt file\n",
      " Now, Another line is appended or addedThis is more test being appended in the file.\n",
      "And another line is here\n"
     ]
    }
   ],
   "source": [
    "with open('test.txt','r') as txt:\n",
    "    for line in txt:\n",
    "        print(line,end='')"
   ]
  },
  {
   "cell_type": "markdown",
   "id": "60ade689",
   "metadata": {},
   "source": [
    "## Reading PDF's "
   ]
  },
  {
   "cell_type": "code",
   "execution_count": 51,
   "id": "3ed750c4",
   "metadata": {},
   "outputs": [
    {
     "name": "stdout",
     "output_type": "stream",
     "text": [
      "Requirement already satisfied: PyPDF2 in d:\\anaconda\\lib\\site-packages (3.0.1)\n",
      "Note: you may need to restart the kernel to use updated packages.\n"
     ]
    }
   ],
   "source": [
    "pip install PyPDF2"
   ]
  },
  {
   "cell_type": "code",
   "execution_count": 52,
   "id": "61e629e3",
   "metadata": {},
   "outputs": [],
   "source": [
    "import PyPDF2 as pdf"
   ]
  },
  {
   "cell_type": "code",
   "execution_count": 53,
   "id": "ba9c48c4",
   "metadata": {},
   "outputs": [],
   "source": [
    "# Notice we read it as a binary with 'rb'\n",
    "f = open('US_Declaration.pdf', 'rb')"
   ]
  },
  {
   "cell_type": "code",
   "execution_count": 56,
   "id": "f2ae6c82",
   "metadata": {},
   "outputs": [],
   "source": [
    "pdf_reader = pdf.PdfReader(f)"
   ]
  },
  {
   "cell_type": "code",
   "execution_count": 57,
   "id": "6fc91ce8",
   "metadata": {},
   "outputs": [
    {
     "data": {
      "text/plain": [
       "5"
      ]
     },
     "execution_count": 57,
     "metadata": {},
     "output_type": "execute_result"
    }
   ],
   "source": [
    "len(pdf_reader.pages)"
   ]
  },
  {
   "cell_type": "code",
   "execution_count": null,
   "id": "5c6b08c2",
   "metadata": {},
   "outputs": [],
   "source": [
    "pageone = pdf_reader.pages[0]\n",
    "pageonetext = pageone.extract_text()\n",
    "print(pageonetext)"
   ]
  },
  {
   "cell_type": "code",
   "execution_count": 68,
   "id": "e06967a1",
   "metadata": {},
   "outputs": [
    {
     "name": "stdout",
     "output_type": "stream",
     "text": [
      "Page No: 1\n",
      "_______________________\n",
      "\n",
      "Declaration of Independence\n",
      "IN CONGRESS, July 4, 1776.  \n",
      "The unanimous Declaration of the thirteen united States of America,  \n",
      "When in the Course of human events, it becomes necessary for one people to dissolve thepolitical bands which have connected them with another, and to assume among the powers of theearth, the separate and equal station to which the Laws of Nature and of Nature's God entitlethem, a decent respect to the opinions of mankind requires that they should declare the causeswhich impel them to the separation. We hold these truths to be self-evident, that all men are created equal, that they are endowed bytheir Creator with certain unalienable Rights, that among these are Life, Liberty and the pursuit\n",
      "of Happiness.— \u0014That to secure these rights, Governments are instituted among Men, derivingtheir just powers from the consent of the governed,—  \u0014That whenever any Form of Government\n",
      "becomes destructive of these ends, it is the Right of the People to alter or to abolish it, and to\n",
      "institute new Government, laying its foundation on such principles and organizing its powers in\n",
      "such form, as to them shall seem most likely to effect their Safety and Happiness. Prudence,indeed, will dictate that Governments long established should not be changed for light andtransient causes; and accordingly all experience hath shewn, that mankind are more disposed to\n",
      "suffer, while evils are sufferable, than to right themselves by abolishing the forms to which theyare accustomed. But when a long train of abuses and usurpations, pursuing invariably the same\n",
      "Object evinces a design to reduce them under absolute Despotism, it is their right, it is their duty,\n",
      "to throw off such Government, and to provide new Guards for their future securit y.— \u0014Such has\n",
      "been the patient sufferance of these Colonies; and such is now the necessity which constrainsthem to alter their former Systems of Government. The history of the present King of GreatBritain is a history of repeated injuries and usurpations, all having in direct object the\n",
      "establishment of an absolute Tyranny over these States. To prove this, let Facts be submitted to a\n",
      "candid world. \n",
      "He has refused his Assent to Laws, the most wholesome and necessary for the\n",
      "public good.He has forbidden his Governors to pass Laws of immediate and pressingimportance, unless suspended in their operation till his Assent should be obtained;and when so suspended, he has utterly neglected to attend to them.He has refused to pass other Laws for the accommodation of large districts of\n",
      "people, unless those people would relinquish the right of Representation in theLegislature, a right inestimable to them and formidable to tyrants only. He has called together legislative bodies at places unusual, uncomfortable, and distantfrom the depository of their public Records, for the sole purpose of fatiguing them into\n",
      "compliance with his measures.\n",
      "Page No: 2\n",
      "_______________________\n",
      "\n",
      "He has dissolved Re presentative Ho uses repeatedly , for opposing wit h manly\n",
      "firmness his invasions on the rights of the people.\n",
      "He has refused for a long time, after such dissolutions, to cause others to be\n",
      "elected; whereby the Leg islative powers, incapable of Annihilation, have returned\n",
      "to the People at lar ge for their exe rcise; the State r emaining in the me an time\n",
      "exposed to all the dangers of invasion from without, and convulsions within.\n",
      "He has endeavou red to prevent the  population of these  States; for that pur pose\n",
      "obstructing the L aws for Natural ization of Foreig ners; refusing  to pass others to\n",
      "encourage their migrations hither, and raising the conditions of new\n",
      "Appropriations of  Lands.\n",
      "He has obstructed the Administration of Justice, by refusing his Assent to Laws\n",
      "for establishing  Judiciary pow ers.\n",
      "He has made Judge s dependent on his Wil l alone, for the te nure of their off ices,\n",
      "and the amount and  payment of t heir salaries.\n",
      "He has erected  a multitude of New  Offices, and se nt hither swarms of  Officers to\n",
      "harrass our people, and eat out their substance.\n",
      "He has kept among us, in times of peace, Standing Armies without the Consent of\n",
      "our legislature s.\n",
      "He has affected to render the Military independent of a nd superior to the Civil power.\n",
      "He has combined with others to subject us to a jurisdiction foreign to our\n",
      "constitution, and unacknowledged by our laws; giving his Assent to their Acts of\n",
      "pretended Legislation:\n",
      "For Quartering  large bodies of  armed troops amon g us:\n",
      "For protecting them, by a mock Trial, from punishment for any  Murders which\n",
      "they should c ommit on the Inha bitants of these Sta tes:\n",
      "For cutting off our Trade with all parts of the world:\n",
      "For imposing Taxe s on us without our Con sent: For deprivi ng us in many  cases,\n",
      "of the benefits of T rial by J ury:\n",
      "For transporting us beyond Seas to be tried for pretended of fences\n",
      "For abolishing the free System of English L aws in a neighbouring Province,\n",
      "establishing therein an Arbitrary government, and e nlarging its Boundaries so as\n",
      "Page No: 3\n",
      "_______________________\n",
      "\n",
      "to render it at onc e an example and fi t instrument for intr oducing the same\n",
      "absolute rule into  these Colonies:\n",
      "For taking away our Charters, abolishing our most valuable L aws, and altering\n",
      "fundamentally  the Forms of our G overnments:\n",
      "For suspending  our own Leg islatures, and de claring themse lves invested with\n",
      "power to legislate for us in all cases whatsoever.\n",
      "He has abdicated Government here, by declar ing us out of his Protection and\n",
      "waging War ag ainst us.\n",
      "He has plundered our seas, ravaged our Coasts, burnt our towns, and destroy ed the\n",
      "lives of our people.\n",
      "He is at this time transporting large Armies of foreign Mercenaries to compleat\n",
      "the works of death, desolation and tyranny , already begun with circumstances of\n",
      "Cruelty & pe rfidy scar cely para lleled in the most ba rbarous ages,  and totally\n",
      "unworthy of the Head of a civilized nation.\n",
      "He has constrained our fellow Citizens taken Captive on the high Seas to bear\n",
      "Arms against their Country, to become the executioners of their friends and\n",
      "Brethren, or to  fall themselves by  their Hands.\n",
      "He has excited domestic insurrections amongst us, and has endeavoured to bring\n",
      "on the inhabitants of our frontiers, the merciless Indian Savages, whose known\n",
      "rule of warfare, is an undistinguished destruction of all ages, sexes and conditions. \n",
      "In every  stage of these O ppressions We have  Petitioned for Redr ess in the most humble  terms:\n",
      "Our repeated Pe titions have been a nswered only  by repeate d injury. A Pr ince whose char acter is\n",
      "thus marked by every ac t which may define a Tyra nt, is unfit to be the ruler of a free people. \n",
      "Nor have We been wanting in attentions to our Brittish brethren. We have warned them from\n",
      "time to time  of attemp ts by th eir legi slature t o extend an  unwarra ntable jur isdiction  over us. We\n",
      "have reminded them of the circumstances of our emigration and settlement here. We have\n",
      "appealed to their native justice and magnanimity, and we have c onjured them by the ties of our\n",
      "common kindred to disavow these usurpations, which, would inevitably interrupt our\n",
      "connections and correspondence. They too have bee n deaf to the voice of justice and of\n",
      "consanguinity. We must, therefore, acquiesce in the necessity , which denounces our Separation,\n",
      "and hold them, as we hold the rest of mankind, Enemies in War, in Peace Friends. \n",
      "We, therefore, t he Representativ es of the united Sta tes of America, i n General Congr ess,\n",
      "Assembled, appealing to the Supreme Judge of the world for the rectitude of our intentions, do,\n",
      "in the Name, and by Authority of the g ood People of these Colonies, solemnly publish and\n",
      "declare, That th ese United Colonie s are, and of Rig ht ought to be Fre e and Indepe ndent States;\n",
      "that they are Absolved from all Allegiance to the British Crown, and that a ll political connection\n",
      "Page No: 4\n",
      "_______________________\n",
      "\n",
      "between them and the State of Great Britain, is and ought to be totally dissolved; and that as Freeand Independent States, they have full Power to levy War, conclude Peace, contract Alliances,\n",
      "establish Commerce, and to do all other Acts and Things which Independent States may of rightdo. And for the support of this Declaration, with a firm reliance on the protection of divineProvidence, we mutually pledge to each other our Lives, our Fortunes and our sacred Honor.[The 56 signatures on the Declaration were arranged in six columns: ] \n",
      "[Column 1] Georgia:\n",
      "   Button Gwinnett\n",
      "   Lyman Hall\n",
      "   George Walton \n",
      "[Column 2] North Carolina:\n",
      "   William Hooper\n",
      "   Joseph Hewes\n",
      "   John Penn\n",
      " South Carolina:\n",
      "   Edward Ru tledge\n",
      "   Thomas Heyward, Jr.\n",
      "  Thomas Lynch, Jr.\n",
      "  Arthur Middleton \n",
      "[Column 3] Massachusetts:\n",
      "   John Hancock Maryland:\n",
      "   Samuel Chase   William Paca   Thomas Stone   Charles Carroll of Carrollton Virginia:\n",
      "   George Wythe   Richard Henry Lee   Thomas Jefferson   Benjamin Harrison   Thomas Nelson, Jr.   Francis Lightfoot Lee   Carter Braxton [Column 4] Pennsylvania:\n",
      "  Robert Morris   Benjamin Rush\n",
      "   Benjamin Fran klin\n",
      "   John Morton\n",
      "Page No: 5\n",
      "_______________________\n",
      "\n",
      "   George Clymer\n",
      "   James Smith\n",
      "   George Taylor\n",
      "   James Wilson\n",
      "   George Ross\n",
      " Delaware:\n",
      "   Caesar Rodney\n",
      "   George Read\n",
      "   Thomas McKean \n",
      "[Column 5] New York:\n",
      "   Wi lliam Floyd\n",
      "   Philip Livingston\n",
      "   Francis L ewis\n",
      "   Lewis Morris\n",
      " New Jersey:\n",
      "   Richard Stockton\n",
      "   John Witherspoon\n",
      "   Francis Hopkinson\n",
      "   John Hart\n",
      "   Abraham Clark \n",
      "[Column 6] New Hampshire:\n",
      "   Josiah Bartlett\n",
      "   William Whipple\n",
      " Massachusetts:\n",
      "   Samuel Adams\n",
      "   John Adams\n",
      "   Robert Treat Paine\n",
      "   Elbridge Gerry\n",
      " Rhode Island:\n",
      "   Stephen Hopkins\n",
      "   William Ellery\n",
      " Connecticut:\n",
      "   Roger Sherman\n",
      "   Samuel Huntington\n",
      "   William Williams\n",
      "   Oliver Wolcott\n",
      " New Hampshire:\n",
      " Matthew Thornton\n",
      " \n"
     ]
    }
   ],
   "source": [
    "for p in range(len(pdf_reader.pages)):\n",
    "    print(f\"Page No: {p+1}\")\n",
    "    print(\"_______________________\\n\")\n",
    "    print(pdf_reader.pages[p].extract_text())"
   ]
  },
  {
   "cell_type": "code",
   "execution_count": 69,
   "id": "2561ff01",
   "metadata": {},
   "outputs": [],
   "source": [
    "f.close()"
   ]
  },
  {
   "cell_type": "markdown",
   "id": "e045b1b2",
   "metadata": {},
   "source": [
    "## Adding to PDF's"
   ]
  },
  {
   "cell_type": "code",
   "execution_count": 70,
   "id": "05903064",
   "metadata": {},
   "outputs": [],
   "source": [
    "f = open('US_Declaration.pdf', 'rb')\n",
    "pdf_reader = pdf.PdfReader(f)\n",
    "first_page = pdf_reader.pages[0]"
   ]
  },
  {
   "cell_type": "code",
   "execution_count": 71,
   "id": "821797cd",
   "metadata": {},
   "outputs": [],
   "source": [
    "pdf_writer = pdf.PdfWriter()"
   ]
  },
  {
   "cell_type": "code",
   "execution_count": 72,
   "id": "b94b0d32",
   "metadata": {},
   "outputs": [
    {
     "data": {
      "text/plain": [
       "{'/Type': '/Page',\n",
       " '/Contents': {},\n",
       " '/MediaBox': [0, 0, 612, 792],\n",
       " '/Resources': {'/Font': {'/F9': {'/Type': '/Font',\n",
       "    '/Subtype': '/Type1',\n",
       "    '/Name': '/F9',\n",
       "    '/Encoding': '/WinAnsiEncoding',\n",
       "    '/FirstChar': 31,\n",
       "    '/LastChar': 255,\n",
       "    '/Widths': [778,\n",
       "     250,\n",
       "     333,\n",
       "     555,\n",
       "     500,\n",
       "     500,\n",
       "     1000,\n",
       "     833,\n",
       "     278,\n",
       "     333,\n",
       "     333,\n",
       "     500,\n",
       "     570,\n",
       "     250,\n",
       "     333,\n",
       "     250,\n",
       "     278,\n",
       "     500,\n",
       "     500,\n",
       "     500,\n",
       "     500,\n",
       "     500,\n",
       "     500,\n",
       "     500,\n",
       "     500,\n",
       "     500,\n",
       "     500,\n",
       "     333,\n",
       "     333,\n",
       "     570,\n",
       "     570,\n",
       "     570,\n",
       "     500,\n",
       "     930,\n",
       "     722,\n",
       "     667,\n",
       "     722,\n",
       "     722,\n",
       "     667,\n",
       "     611,\n",
       "     778,\n",
       "     778,\n",
       "     389,\n",
       "     500,\n",
       "     778,\n",
       "     667,\n",
       "     944,\n",
       "     722,\n",
       "     778,\n",
       "     611,\n",
       "     778,\n",
       "     722,\n",
       "     556,\n",
       "     667,\n",
       "     722,\n",
       "     722,\n",
       "     1000,\n",
       "     722,\n",
       "     722,\n",
       "     667,\n",
       "     333,\n",
       "     278,\n",
       "     333,\n",
       "     581,\n",
       "     500,\n",
       "     333,\n",
       "     500,\n",
       "     556,\n",
       "     444,\n",
       "     556,\n",
       "     444,\n",
       "     333,\n",
       "     500,\n",
       "     556,\n",
       "     278,\n",
       "     333,\n",
       "     556,\n",
       "     278,\n",
       "     833,\n",
       "     556,\n",
       "     500,\n",
       "     556,\n",
       "     556,\n",
       "     444,\n",
       "     389,\n",
       "     333,\n",
       "     556,\n",
       "     500,\n",
       "     722,\n",
       "     500,\n",
       "     500,\n",
       "     444,\n",
       "     394,\n",
       "     220,\n",
       "     394,\n",
       "     520,\n",
       "     778,\n",
       "     500,\n",
       "     778,\n",
       "     333,\n",
       "     500,\n",
       "     500,\n",
       "     1000,\n",
       "     500,\n",
       "     500,\n",
       "     333,\n",
       "     1000,\n",
       "     556,\n",
       "     333,\n",
       "     1000,\n",
       "     778,\n",
       "     778,\n",
       "     778,\n",
       "     778,\n",
       "     333,\n",
       "     333,\n",
       "     500,\n",
       "     500,\n",
       "     350,\n",
       "     500,\n",
       "     1000,\n",
       "     333,\n",
       "     1000,\n",
       "     389,\n",
       "     333,\n",
       "     722,\n",
       "     778,\n",
       "     778,\n",
       "     722,\n",
       "     250,\n",
       "     333,\n",
       "     500,\n",
       "     500,\n",
       "     500,\n",
       "     500,\n",
       "     220,\n",
       "     500,\n",
       "     333,\n",
       "     747,\n",
       "     300,\n",
       "     500,\n",
       "     570,\n",
       "     333,\n",
       "     747,\n",
       "     500,\n",
       "     400,\n",
       "     549,\n",
       "     300,\n",
       "     300,\n",
       "     333,\n",
       "     576,\n",
       "     540,\n",
       "     250,\n",
       "     333,\n",
       "     300,\n",
       "     330,\n",
       "     500,\n",
       "     750,\n",
       "     750,\n",
       "     750,\n",
       "     500,\n",
       "     722,\n",
       "     722,\n",
       "     722,\n",
       "     722,\n",
       "     722,\n",
       "     722,\n",
       "     1000,\n",
       "     722,\n",
       "     667,\n",
       "     667,\n",
       "     667,\n",
       "     667,\n",
       "     389,\n",
       "     389,\n",
       "     389,\n",
       "     389,\n",
       "     722,\n",
       "     722,\n",
       "     778,\n",
       "     778,\n",
       "     778,\n",
       "     778,\n",
       "     778,\n",
       "     570,\n",
       "     778,\n",
       "     722,\n",
       "     722,\n",
       "     722,\n",
       "     722,\n",
       "     722,\n",
       "     611,\n",
       "     556,\n",
       "     500,\n",
       "     500,\n",
       "     500,\n",
       "     500,\n",
       "     500,\n",
       "     500,\n",
       "     722,\n",
       "     444,\n",
       "     444,\n",
       "     444,\n",
       "     444,\n",
       "     444,\n",
       "     278,\n",
       "     278,\n",
       "     278,\n",
       "     278,\n",
       "     500,\n",
       "     556,\n",
       "     500,\n",
       "     500,\n",
       "     500,\n",
       "     500,\n",
       "     500,\n",
       "     549,\n",
       "     500,\n",
       "     556,\n",
       "     556,\n",
       "     556,\n",
       "     556,\n",
       "     500,\n",
       "     556,\n",
       "     500],\n",
       "    '/BaseFont': '/TimesNewRomanPS-BoldMT',\n",
       "    '/FontDescriptor': {'/Type': '/FontDescriptor',\n",
       "     '/FontName': '/TimesNewRomanPS-BoldMT',\n",
       "     '/Ascent': 677,\n",
       "     '/CapHeight': 500,\n",
       "     '/Descent': -216,\n",
       "     '/Flags': 34,\n",
       "     '/FontBBox': [-558, -307, 2034, 1026],\n",
       "     '/ItalicAngle': 0,\n",
       "     '/StemV': 0,\n",
       "     '/AvgWidth': 427,\n",
       "     '/Leading': 150,\n",
       "     '/MaxWidth': 2592,\n",
       "     '/XHeight': 250,\n",
       "     '/FontFile': {'/Filter': ['/ASCII85Decode'],\n",
       "      '/Length1': 4690,\n",
       "      '/Length2': 46374,\n",
       "      '/Length3': 532}}},\n",
       "   '/F6': {'/Type': '/Font',\n",
       "    '/Subtype': '/Type1',\n",
       "    '/Name': '/F6',\n",
       "    '/Encoding': '/WinAnsiEncoding',\n",
       "    '/FirstChar': 31,\n",
       "    '/LastChar': 255,\n",
       "    '/Widths': [778,\n",
       "     250,\n",
       "     333,\n",
       "     408,\n",
       "     500,\n",
       "     500,\n",
       "     833,\n",
       "     778,\n",
       "     180,\n",
       "     333,\n",
       "     333,\n",
       "     500,\n",
       "     564,\n",
       "     250,\n",
       "     333,\n",
       "     250,\n",
       "     278,\n",
       "     500,\n",
       "     500,\n",
       "     500,\n",
       "     500,\n",
       "     500,\n",
       "     500,\n",
       "     500,\n",
       "     500,\n",
       "     500,\n",
       "     500,\n",
       "     278,\n",
       "     278,\n",
       "     564,\n",
       "     564,\n",
       "     564,\n",
       "     444,\n",
       "     921,\n",
       "     722,\n",
       "     667,\n",
       "     667,\n",
       "     722,\n",
       "     611,\n",
       "     556,\n",
       "     722,\n",
       "     722,\n",
       "     333,\n",
       "     389,\n",
       "     722,\n",
       "     611,\n",
       "     889,\n",
       "     722,\n",
       "     722,\n",
       "     556,\n",
       "     722,\n",
       "     667,\n",
       "     556,\n",
       "     611,\n",
       "     722,\n",
       "     722,\n",
       "     944,\n",
       "     722,\n",
       "     722,\n",
       "     611,\n",
       "     333,\n",
       "     278,\n",
       "     333,\n",
       "     469,\n",
       "     500,\n",
       "     333,\n",
       "     444,\n",
       "     500,\n",
       "     444,\n",
       "     500,\n",
       "     444,\n",
       "     333,\n",
       "     500,\n",
       "     500,\n",
       "     278,\n",
       "     278,\n",
       "     500,\n",
       "     278,\n",
       "     778,\n",
       "     500,\n",
       "     500,\n",
       "     500,\n",
       "     500,\n",
       "     333,\n",
       "     389,\n",
       "     278,\n",
       "     500,\n",
       "     500,\n",
       "     722,\n",
       "     500,\n",
       "     500,\n",
       "     444,\n",
       "     480,\n",
       "     200,\n",
       "     480,\n",
       "     541,\n",
       "     778,\n",
       "     500,\n",
       "     778,\n",
       "     333,\n",
       "     500,\n",
       "     444,\n",
       "     1000,\n",
       "     500,\n",
       "     500,\n",
       "     333,\n",
       "     1000,\n",
       "     556,\n",
       "     333,\n",
       "     889,\n",
       "     778,\n",
       "     778,\n",
       "     778,\n",
       "     778,\n",
       "     333,\n",
       "     333,\n",
       "     444,\n",
       "     444,\n",
       "     350,\n",
       "     500,\n",
       "     1000,\n",
       "     333,\n",
       "     980,\n",
       "     389,\n",
       "     333,\n",
       "     722,\n",
       "     778,\n",
       "     778,\n",
       "     722,\n",
       "     250,\n",
       "     333,\n",
       "     500,\n",
       "     500,\n",
       "     500,\n",
       "     500,\n",
       "     200,\n",
       "     500,\n",
       "     333,\n",
       "     760,\n",
       "     276,\n",
       "     500,\n",
       "     564,\n",
       "     333,\n",
       "     760,\n",
       "     500,\n",
       "     400,\n",
       "     549,\n",
       "     300,\n",
       "     300,\n",
       "     333,\n",
       "     576,\n",
       "     453,\n",
       "     250,\n",
       "     333,\n",
       "     300,\n",
       "     310,\n",
       "     500,\n",
       "     750,\n",
       "     750,\n",
       "     750,\n",
       "     444,\n",
       "     722,\n",
       "     722,\n",
       "     722,\n",
       "     722,\n",
       "     722,\n",
       "     722,\n",
       "     889,\n",
       "     667,\n",
       "     611,\n",
       "     611,\n",
       "     611,\n",
       "     611,\n",
       "     333,\n",
       "     333,\n",
       "     333,\n",
       "     333,\n",
       "     722,\n",
       "     722,\n",
       "     722,\n",
       "     722,\n",
       "     722,\n",
       "     722,\n",
       "     722,\n",
       "     564,\n",
       "     722,\n",
       "     722,\n",
       "     722,\n",
       "     722,\n",
       "     722,\n",
       "     722,\n",
       "     556,\n",
       "     500,\n",
       "     444,\n",
       "     444,\n",
       "     444,\n",
       "     444,\n",
       "     444,\n",
       "     444,\n",
       "     667,\n",
       "     444,\n",
       "     444,\n",
       "     444,\n",
       "     444,\n",
       "     444,\n",
       "     278,\n",
       "     278,\n",
       "     278,\n",
       "     278,\n",
       "     500,\n",
       "     500,\n",
       "     500,\n",
       "     500,\n",
       "     500,\n",
       "     500,\n",
       "     500,\n",
       "     549,\n",
       "     500,\n",
       "     500,\n",
       "     500,\n",
       "     500,\n",
       "     500,\n",
       "     500,\n",
       "     500,\n",
       "     500],\n",
       "    '/BaseFont': '/TimesNewRomanPSMT',\n",
       "    '/FontDescriptor': {'/Type': '/FontDescriptor',\n",
       "     '/FontName': '/TimesNewRomanPSMT',\n",
       "     '/Ascent': 693,\n",
       "     '/CapHeight': 500,\n",
       "     '/Descent': -216,\n",
       "     '/Flags': 34,\n",
       "     '/FontBBox': [-568, -307, 2028, 1007],\n",
       "     '/ItalicAngle': 0,\n",
       "     '/StemV': 0,\n",
       "     '/AvgWidth': 401,\n",
       "     '/Leading': 150,\n",
       "     '/MaxWidth': 2597,\n",
       "     '/XHeight': 250,\n",
       "     '/FontFile': {'/Filter': ['/ASCII85Decode'],\n",
       "      '/Length1': 4680,\n",
       "      '/Length2': 46205,\n",
       "      '/Length3': 532}}}},\n",
       "  '/ProcSet': ['/PDF', '/Text']},\n",
       " '/Parent': {'/Type': '/Pages',\n",
       "  '/Count': 1,\n",
       "  '/Kids': [IndirectObject(4, 0, 1864540419920)]}}"
      ]
     },
     "execution_count": 72,
     "metadata": {},
     "output_type": "execute_result"
    }
   ],
   "source": [
    "pdf_writer.add_page(first_page)"
   ]
  },
  {
   "cell_type": "code",
   "execution_count": 73,
   "id": "9d48e8d9",
   "metadata": {},
   "outputs": [],
   "source": [
    "new_file = open('newdoc.pdf','wb')"
   ]
  },
  {
   "cell_type": "code",
   "execution_count": 74,
   "id": "ae818fd7",
   "metadata": {},
   "outputs": [
    {
     "data": {
      "text/plain": [
       "(False, <_io.BufferedWriter name='newdoc.pdf'>)"
      ]
     },
     "execution_count": 74,
     "metadata": {},
     "output_type": "execute_result"
    }
   ],
   "source": [
    "pdf_writer.write(new_file)"
   ]
  },
  {
   "cell_type": "code",
   "execution_count": 75,
   "id": "bf0d5e45",
   "metadata": {},
   "outputs": [
    {
     "data": {
      "text/plain": [
       "<function BufferedReader.close>"
      ]
     },
     "execution_count": 75,
     "metadata": {},
     "output_type": "execute_result"
    }
   ],
   "source": [
    "new_file.close()\n",
    "f.close"
   ]
  },
  {
   "cell_type": "markdown",
   "id": "a3fd1e7f",
   "metadata": {},
   "source": [
    "# Regular Expressions"
   ]
  },
  {
   "cell_type": "markdown",
   "id": "89020eeb",
   "metadata": {},
   "source": [
    "## Searching for Basic Patterns "
   ]
  },
  {
   "cell_type": "code",
   "execution_count": 76,
   "id": "2caa0c1a",
   "metadata": {},
   "outputs": [],
   "source": [
    "text = \"Give me your phone no:\""
   ]
  },
  {
   "cell_type": "code",
   "execution_count": 77,
   "id": "eed09cf3",
   "metadata": {},
   "outputs": [],
   "source": [
    "import re"
   ]
  },
  {
   "cell_type": "code",
   "execution_count": 78,
   "id": "b74217c7",
   "metadata": {},
   "outputs": [],
   "source": [
    "pattern = 'phone'"
   ]
  },
  {
   "cell_type": "code",
   "execution_count": 79,
   "id": "b5ddba67",
   "metadata": {},
   "outputs": [
    {
     "data": {
      "text/plain": [
       "<re.Match object; span=(13, 18), match='phone'>"
      ]
     },
     "execution_count": 79,
     "metadata": {},
     "output_type": "execute_result"
    }
   ],
   "source": [
    "match = re.search(pattern,text)\n",
    "match"
   ]
  },
  {
   "cell_type": "markdown",
   "id": "55d48989",
   "metadata": {},
   "source": [
    "### Notice the span, there is also a start and end index information"
   ]
  },
  {
   "cell_type": "code",
   "execution_count": 81,
   "id": "2447d8de",
   "metadata": {},
   "outputs": [
    {
     "data": {
      "text/plain": [
       "(13, 18)"
      ]
     },
     "execution_count": 81,
     "metadata": {},
     "output_type": "execute_result"
    }
   ],
   "source": [
    "match.span()"
   ]
  },
  {
   "cell_type": "code",
   "execution_count": 82,
   "id": "99ea5d9e",
   "metadata": {},
   "outputs": [
    {
     "data": {
      "text/plain": [
       "13"
      ]
     },
     "execution_count": 82,
     "metadata": {},
     "output_type": "execute_result"
    }
   ],
   "source": [
    "match.start()"
   ]
  },
  {
   "cell_type": "code",
   "execution_count": 83,
   "id": "7f9e01ed",
   "metadata": {},
   "outputs": [
    {
     "data": {
      "text/plain": [
       "18"
      ]
     },
     "execution_count": 83,
     "metadata": {},
     "output_type": "execute_result"
    }
   ],
   "source": [
    "match.end()"
   ]
  },
  {
   "cell_type": "code",
   "execution_count": 84,
   "id": "595b332c",
   "metadata": {},
   "outputs": [
    {
     "data": {
      "text/plain": [
       "'My phone no: is 308-333-1234'"
      ]
     },
     "execution_count": 84,
     "metadata": {},
     "output_type": "execute_result"
    }
   ],
   "source": [
    "text = 'My phone no: is 308-333-1234'\n",
    "text"
   ]
  },
  {
   "cell_type": "code",
   "execution_count": null,
   "id": "af72c2aa",
   "metadata": {},
   "outputs": [],
   "source": [
    "#phone_pattern = re.compile(r'\\d')"
   ]
  },
  {
   "cell_type": "markdown",
   "id": "40dd5826",
   "metadata": {},
   "source": [
    "## Additional Regex Syntax"
   ]
  },
  {
   "cell_type": "code",
   "execution_count": 85,
   "id": "ac9fad61",
   "metadata": {},
   "outputs": [
    {
     "data": {
      "text/plain": [
       "['man']"
      ]
     },
     "execution_count": 85,
     "metadata": {},
     "output_type": "execute_result"
    }
   ],
   "source": [
    "re.findall(r\"man|woman\",\"This Woman was here.\")"
   ]
  },
  {
   "cell_type": "markdown",
   "id": "e460e4c9",
   "metadata": {},
   "source": [
    "## The wildcard Charachter "
   ]
  },
  {
   "cell_type": "code",
   "execution_count": 86,
   "id": "166f94c4",
   "metadata": {},
   "outputs": [
    {
     "data": {
      "text/plain": [
       "['cat', 'hat', 'sat', 'hat']"
      ]
     },
     "execution_count": 86,
     "metadata": {},
     "output_type": "execute_result"
    }
   ],
   "source": [
    "re.findall(r\".at\",\"The cat in the hat sat here that.\")"
   ]
  },
  {
   "cell_type": "code",
   "execution_count": 87,
   "id": "e7e4b243",
   "metadata": {},
   "outputs": [
    {
     "data": {
      "text/plain": [
       "['bat', 'lat']"
      ]
     },
     "execution_count": 87,
     "metadata": {},
     "output_type": "execute_result"
    }
   ],
   "source": [
    "re.findall(r\".at\",\"The bat went splat\")"
   ]
  },
  {
   "cell_type": "code",
   "execution_count": 89,
   "id": "76c6650a",
   "metadata": {},
   "outputs": [
    {
     "data": {
      "text/plain": [
       "['e bat', 'splat']"
      ]
     },
     "execution_count": 89,
     "metadata": {},
     "output_type": "execute_result"
    }
   ],
   "source": [
    "re.findall(r\"...at\",\"The bat went splat\")"
   ]
  },
  {
   "cell_type": "code",
   "execution_count": 90,
   "id": "fc17ec64",
   "metadata": {},
   "outputs": [
    {
     "data": {
      "text/plain": [
       "['bat', 'splat']"
      ]
     },
     "execution_count": 90,
     "metadata": {},
     "output_type": "execute_result"
    }
   ],
   "source": [
    "re.findall(r\"\\S+at\",\"The bat went splat\")"
   ]
  },
  {
   "cell_type": "markdown",
   "id": "d3bd0d7a",
   "metadata": {},
   "source": [
    "## Brackets for Grouping"
   ]
  },
  {
   "cell_type": "code",
   "execution_count": 94,
   "id": "be56f788",
   "metadata": {},
   "outputs": [],
   "source": [
    "text = 'Only find the hyphen-words in this sentence, Language Speaking English-Urdu'"
   ]
  },
  {
   "cell_type": "code",
   "execution_count": 95,
   "id": "b3df7164",
   "metadata": {},
   "outputs": [
    {
     "data": {
      "text/plain": [
       "['hyphen-words', 'English-Urdu']"
      ]
     },
     "execution_count": 95,
     "metadata": {},
     "output_type": "execute_result"
    }
   ],
   "source": [
    "re.findall('[\\w]+-[\\w]+',text)"
   ]
  },
  {
   "cell_type": "code",
   "execution_count": null,
   "id": "7a5605ad",
   "metadata": {},
   "outputs": [],
   "source": []
  }
 ],
 "metadata": {
  "kernelspec": {
   "display_name": "Python 3 (ipykernel)",
   "language": "python",
   "name": "python3"
  },
  "language_info": {
   "codemirror_mode": {
    "name": "ipython",
    "version": 3
   },
   "file_extension": ".py",
   "mimetype": "text/x-python",
   "name": "python",
   "nbconvert_exporter": "python",
   "pygments_lexer": "ipython3",
   "version": "3.11.3"
  }
 },
 "nbformat": 4,
 "nbformat_minor": 5
}
